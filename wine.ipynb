{
 "cells": [
  {
   "cell_type": "code",
   "execution_count": null,
   "id": "121085c2",
   "metadata": {
    "scrolled": true
   },
   "outputs": [],
   "source": [
    "!pip install sklearn pandas matplotlib sklearn seaborn"
   ]
  },
  {
   "cell_type": "code",
   "execution_count": null,
   "id": "573ee0c6",
   "metadata": {},
   "outputs": [],
   "source": [
    "import matplotlib.pyplot as plt\n",
    "import seaborn as sns\n",
    "from sklearn import datasets\n",
    "from sklearn.linear_model import LogisticRegression\n",
    "from sklearn.model_selection import train_test_split\n",
    "from sklearn.metrics import confusion_matrix\n",
    "import pandas as pd"
   ]
  },
  {
   "cell_type": "markdown",
   "id": "8b45233c",
   "metadata": {},
   "source": [
    "# load Dataset"
   ]
  },
  {
   "cell_type": "markdown",
   "id": "9f761b9b",
   "metadata": {},
   "source": [
    "Dataset URL: https://archive.ics.uci.edu/ml/datasets/wine"
   ]
  },
  {
   "cell_type": "markdown",
   "id": "e7a5446f",
   "metadata": {},
   "source": [
    "### Atributos\n",
    "1) Alcohol  <br />\n",
    "2) Malic acid <br />\n",
    "3) Ash <br />\n",
    "4) Alcalinity of ash <br />\n",
    "5) Magnesium <br />\n",
    "6) Total phenols <br />\n",
    "7) Flavanoids <br />\n",
    "8) Nonflavanoid phenols <br />\n",
    "9) Proanthocyanins <br />\n",
    "10) Color intensity <br />\n",
    "11) Hue <br />\n",
    "12) OD280/OD315 of diluted wines <br />\n",
    "13) Proline <br />"
   ]
  },
  {
   "cell_type": "code",
   "execution_count": null,
   "id": "efe38343",
   "metadata": {},
   "outputs": [],
   "source": [
    "column_names = [\"type\", \"alcohol\", \"aalic_acid\", \"ash\", \"alcalinity_ash\", \"magnesium\", \"total_phenols\", \"flavanoids\", \"nonflavanoid\", \"proanthocyanins\", \"color\", \"hue\", \"OD280\", \"proline\"]\n",
    "df = pd.read_csv(\"data/wine.data\", names = column_names)"
   ]
  },
  {
   "cell_type": "markdown",
   "id": "8ebe315f",
   "metadata": {},
   "source": [
    "Validar base de datos"
   ]
  },
  {
   "cell_type": "code",
   "execution_count": null,
   "id": "6db965de",
   "metadata": {
    "scrolled": false
   },
   "outputs": [],
   "source": [
    "df.head()"
   ]
  },
  {
   "cell_type": "code",
   "execution_count": null,
   "id": "a05cdc3b",
   "metadata": {},
   "outputs": [],
   "source": [
    "df.info()"
   ]
  },
  {
   "cell_type": "code",
   "execution_count": null,
   "id": "c6d18b99",
   "metadata": {
    "scrolled": true
   },
   "outputs": [],
   "source": [
    "df[\"type\"].value_counts()"
   ]
  },
  {
   "cell_type": "markdown",
   "id": "2d70f24a",
   "metadata": {},
   "source": [
    "JoinPlot"
   ]
  },
  {
   "cell_type": "code",
   "execution_count": null,
   "id": "7e56649a",
   "metadata": {},
   "outputs": [],
   "source": [
    "sns.jointplot(x='alcohol',y='color',data=df,height=5)"
   ]
  },
  {
   "cell_type": "markdown",
   "id": "86937453",
   "metadata": {},
   "source": [
    "FacetGrid"
   ]
  },
  {
   "cell_type": "code",
   "execution_count": null,
   "id": "5ee25599",
   "metadata": {},
   "outputs": [],
   "source": [
    "sns.FacetGrid(df,hue='type',height=5).map(plt.scatter,'alcohol','color').add_legend()"
   ]
  },
  {
   "cell_type": "markdown",
   "id": "1efa186c",
   "metadata": {},
   "source": [
    "Box Plot - Caja de bigotes"
   ]
  },
  {
   "cell_type": "code",
   "execution_count": null,
   "id": "8328ebc6",
   "metadata": {},
   "outputs": [],
   "source": [
    "sns.boxplot(x='type',y='magnesium',data=df)"
   ]
  },
  {
   "cell_type": "markdown",
   "id": "f8f499c0",
   "metadata": {},
   "source": [
    "Stripplot"
   ]
  },
  {
   "cell_type": "code",
   "execution_count": null,
   "id": "1b8013a5",
   "metadata": {},
   "outputs": [],
   "source": [
    "ax=sns.stripplot(x='type',y='alcohol',data=df,jitter=True,edgecolor='gray')"
   ]
  },
  {
   "cell_type": "markdown",
   "id": "8a576fc8",
   "metadata": {},
   "source": [
    "Bigotes y striplot"
   ]
  },
  {
   "cell_type": "code",
   "execution_count": null,
   "id": "5a77f3ea",
   "metadata": {},
   "outputs": [],
   "source": [
    "ax=sns.boxplot(x='type',y='alcohol',data=df)\n",
    "ax=sns.stripplot(x='type',y='alcohol',data=df,jitter=True,edgecolor='gray')"
   ]
  },
  {
   "cell_type": "markdown",
   "id": "ea00334b",
   "metadata": {},
   "source": [
    "Violin"
   ]
  },
  {
   "cell_type": "code",
   "execution_count": null,
   "id": "3e1e598b",
   "metadata": {},
   "outputs": [],
   "source": [
    "sns.violinplot(x='type',y='alcohol',data=df,size=6)"
   ]
  },
  {
   "cell_type": "markdown",
   "id": "58a21a67",
   "metadata": {},
   "source": [
    "Pairplot"
   ]
  },
  {
   "cell_type": "code",
   "execution_count": null,
   "id": "13ad091a",
   "metadata": {},
   "outputs": [],
   "source": [
    "sns.pairplot(data=df,kind='scatter')"
   ]
  },
  {
   "cell_type": "code",
   "execution_count": null,
   "id": "8ab7b01a",
   "metadata": {},
   "outputs": [],
   "source": [
    "sns.pairplot(data=df,kind='scatter',vars=[\"alcohol\", \"proline\", \"hue\", \"color\"])"
   ]
  },
  {
   "cell_type": "markdown",
   "id": "7a33fdc8",
   "metadata": {},
   "source": [
    "11. Generar la grafica pair plot dependiendo la especie"
   ]
  },
  {
   "cell_type": "code",
   "execution_count": null,
   "id": "90efd794",
   "metadata": {},
   "outputs": [],
   "source": [
    "sns.pairplot(df,hue='type')"
   ]
  },
  {
   "cell_type": "code",
   "execution_count": null,
   "id": "05628c99",
   "metadata": {},
   "outputs": [],
   "source": [
    "sns.pairplot(df,hue='type', vars=[\"alcohol\", \"proline\", \"hue\", \"color\"])"
   ]
  },
  {
   "cell_type": "markdown",
   "id": "0bb8be29",
   "metadata": {},
   "source": [
    "Heatmap"
   ]
  },
  {
   "cell_type": "code",
   "execution_count": null,
   "id": "e5fef449",
   "metadata": {},
   "outputs": [],
   "source": [
    "sns.heatmap(df.corr(),annot=True,cmap='summer')"
   ]
  },
  {
   "cell_type": "markdown",
   "id": "a8e1caf1",
   "metadata": {},
   "source": [
    "Histograma"
   ]
  },
  {
   "cell_type": "code",
   "execution_count": null,
   "id": "733ebe9b",
   "metadata": {},
   "outputs": [],
   "source": [
    "df.hist(figsize=(20,10))"
   ]
  },
  {
   "cell_type": "markdown",
   "id": "f1cfe65e",
   "metadata": {},
   "source": [
    "Swarmplot"
   ]
  },
  {
   "cell_type": "code",
   "execution_count": null,
   "id": "02d8be35",
   "metadata": {},
   "outputs": [],
   "source": [
    "sns.swarmplot(x=\"type\", y=\"proline\", data=df, s=5)"
   ]
  },
  {
   "cell_type": "markdown",
   "id": "8c998523",
   "metadata": {},
   "source": [
    "Dividir datos en entrenamiento y pruebas"
   ]
  },
  {
   "cell_type": "code",
   "execution_count": null,
   "id": "06b19e1f",
   "metadata": {},
   "outputs": [],
   "source": [
    "features = df.drop(['type'], axis=1)\n",
    "targets = df[\"type\"]\n",
    "features_train, features_test, target_train, target_test = train_test_split(features, targets)"
   ]
  },
  {
   "cell_type": "markdown",
   "id": "db886934",
   "metadata": {},
   "source": [
    "Modelo de clasificacion regresion logistica."
   ]
  },
  {
   "cell_type": "code",
   "execution_count": null,
   "id": "31ef2a49",
   "metadata": {},
   "outputs": [],
   "source": [
    "# crear modelo de clasificacion usando Regresión logística\n",
    "classifier = LogisticRegression(solver='lbfgs', max_iter=4000)\n",
    "# entrenar modelo y hacer predicciones\n",
    "target_predicted = classifier.fit(features_train, target_train).predict(features_test)"
   ]
  },
  {
   "cell_type": "markdown",
   "id": "a3903a66",
   "metadata": {},
   "source": [
    "Matriz de confusión"
   ]
  },
  {
   "cell_type": "code",
   "execution_count": null,
   "id": "5a359ff0",
   "metadata": {},
   "outputs": [],
   "source": [
    "# crear matriz de confusión\n",
    "matrix = confusion_matrix(target_test, target_predicted)\n",
    "dataframe = pd.DataFrame(matrix, index=targets.unique(), columns=targets.unique())\n",
    "# crear mapa de calor dibujar mapa de calor\n",
    "sns.heatmap(dataframe, annot=True, cbar=None, cmap=\"Blues\")\n",
    "plt.title(\"Confusion Matrix\"), plt.tight_layout()\n",
    "plt.ylabel(\"True Class\"), plt.xlabel(\"Predicted Class\")\n",
    "plt.show()"
   ]
  }
 ],
 "metadata": {
  "kernelspec": {
   "display_name": "Python 3 (ipykernel)",
   "language": "python",
   "name": "python3"
  },
  "language_info": {
   "codemirror_mode": {
    "name": "ipython",
    "version": 3
   },
   "file_extension": ".py",
   "mimetype": "text/x-python",
   "name": "python",
   "nbconvert_exporter": "python",
   "pygments_lexer": "ipython3",
   "version": "3.8.3"
  }
 },
 "nbformat": 4,
 "nbformat_minor": 5
}
