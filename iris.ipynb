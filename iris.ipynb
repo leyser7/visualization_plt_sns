{
 "cells": [
  {
   "cell_type": "code",
   "execution_count": null,
   "id": "19419813",
   "metadata": {
    "scrolled": true
   },
   "outputs": [],
   "source": [
    "!pip install sklearn pandas matplotlib sklearn seaborn"
   ]
  },
  {
   "cell_type": "code",
   "execution_count": null,
   "id": "566ab1e2",
   "metadata": {},
   "outputs": [],
   "source": [
    "import matplotlib.pyplot as plt\n",
    "import seaborn as sns\n",
    "from sklearn import datasets\n",
    "from sklearn.linear_model import LogisticRegression\n",
    "from sklearn.model_selection import train_test_split\n",
    "from sklearn.metrics import confusion_matrix\n",
    "import pandas as pd"
   ]
  },
  {
   "cell_type": "markdown",
   "id": "710c09e9",
   "metadata": {},
   "source": [
    "# load Dataset"
   ]
  },
  {
   "cell_type": "code",
   "execution_count": null,
   "id": "dc0e0ddd",
   "metadata": {},
   "outputs": [],
   "source": [
    "column_names = [\"sepal_length\", \"sepal_width\", \"petal_length\", \"petal_width\", \"species\"]\n",
    "df = pd.read_csv(\"data/iris.data\", names = column_names)"
   ]
  },
  {
   "cell_type": "markdown",
   "id": "267698e8",
   "metadata": {},
   "source": [
    "1. Mostrar los cincos primeros datos de la base de datos."
   ]
  },
  {
   "cell_type": "code",
   "execution_count": null,
   "id": "912faed4",
   "metadata": {},
   "outputs": [],
   "source": [
    "# Ingresa tu codigo aqui #"
   ]
  },
  {
   "cell_type": "markdown",
   "id": "f75b704a",
   "metadata": {},
   "source": [
    "2. Mostrar la informacion de la base de datos: \n",
    "¿Cuantas columnas tiene la base de datos ? \n",
    "¿Cuantos valuros nulos hay?"
   ]
  },
  {
   "cell_type": "code",
   "execution_count": null,
   "id": "0b19ea01",
   "metadata": {},
   "outputs": [],
   "source": [
    "# Ingresa tu codigo aqui #"
   ]
  },
  {
   "cell_type": "markdown",
   "id": "6bed5878",
   "metadata": {},
   "source": [
    "3. Mostrar cuantos datos de cada tipos de especies de iris hay."
   ]
  },
  {
   "cell_type": "code",
   "execution_count": null,
   "id": "bcc8b022",
   "metadata": {},
   "outputs": [],
   "source": [
    "# Ingresa tu codigo aqui #"
   ]
  },
  {
   "cell_type": "markdown",
   "id": "1d7869ed",
   "metadata": {},
   "source": [
    "4. Mostrar una grafica \"join\" del sepal_length y sepal_width donde se puedan ver la distribucion de estos dos valores."
   ]
  },
  {
   "cell_type": "code",
   "execution_count": null,
   "id": "cd34c2db",
   "metadata": {},
   "outputs": [],
   "source": [
    "# Ingresa tu codigo aqui #"
   ]
  },
  {
   "cell_type": "markdown",
   "id": "4ba28798",
   "metadata": {},
   "source": [
    "5. Mostrar grafica FacetGrid  del sepal_length y sepal_width donde se puedan ver la distribucion de estos dos valores con respecto a la especie"
   ]
  },
  {
   "cell_type": "code",
   "execution_count": null,
   "id": "2e715a5a",
   "metadata": {},
   "outputs": [],
   "source": [
    "# Ingresa tu codigo aqui #"
   ]
  },
  {
   "cell_type": "markdown",
   "id": "69af0111",
   "metadata": {},
   "source": [
    "6. Realizar grafica de caja de bigotes del petal_length con respecto la especie de iris"
   ]
  },
  {
   "cell_type": "code",
   "execution_count": null,
   "id": "67504262",
   "metadata": {},
   "outputs": [],
   "source": [
    "# Ingresa tu codigo aqui #"
   ]
  },
  {
   "cell_type": "markdown",
   "id": "69405ae2",
   "metadata": {},
   "source": [
    "7. Mostrar la grafica stripplot del tamaño sepal_length con respecto a la especie"
   ]
  },
  {
   "cell_type": "code",
   "execution_count": null,
   "id": "6709f455",
   "metadata": {},
   "outputs": [],
   "source": [
    "# Ingresa tu codigo aqui #"
   ]
  },
  {
   "cell_type": "markdown",
   "id": "70bb2ff1",
   "metadata": {},
   "source": [
    "8. Combinar la grafica de caja de bigotes y el striplot y mostrarla en una sola"
   ]
  },
  {
   "cell_type": "code",
   "execution_count": null,
   "id": "c4648c5a",
   "metadata": {},
   "outputs": [],
   "source": [
    "# Ingresa tu codigo aqui #"
   ]
  },
  {
   "cell_type": "markdown",
   "id": "58a1675e",
   "metadata": {},
   "source": [
    "9. Realizar la grafica de violines con sepal_length vs la especie."
   ]
  },
  {
   "cell_type": "code",
   "execution_count": null,
   "id": "2c1aebfc",
   "metadata": {},
   "outputs": [],
   "source": [
    "# Ingresa tu codigo aqui #"
   ]
  },
  {
   "cell_type": "markdown",
   "id": "385ef568",
   "metadata": {},
   "source": [
    "10. Generar la grafica Pair Plot de la base de datos "
   ]
  },
  {
   "cell_type": "code",
   "execution_count": null,
   "id": "5bb392ca",
   "metadata": {},
   "outputs": [],
   "source": [
    "# Ingresa tu codigo aqui #"
   ]
  },
  {
   "cell_type": "markdown",
   "id": "4c2e7949",
   "metadata": {},
   "source": [
    "11. Generar la grafica pair plot dependiendo la especie"
   ]
  },
  {
   "cell_type": "code",
   "execution_count": null,
   "id": "86dbe6fe",
   "metadata": {},
   "outputs": [],
   "source": [
    "# Ingresa tu codigo aqui #"
   ]
  },
  {
   "cell_type": "markdown",
   "id": "99391b86",
   "metadata": {},
   "source": [
    "12. Generar un mapa de calor con los valores de la correlacion de la base de datos iris. \n",
    "Mostrando los valores en cada una de las cuadrados y con el cmap=\"summer'"
   ]
  },
  {
   "cell_type": "code",
   "execution_count": null,
   "id": "1c941f6e",
   "metadata": {},
   "outputs": [],
   "source": [
    "# Ingresa tu codigo aqui #"
   ]
  },
  {
   "cell_type": "markdown",
   "id": "8f87c35d",
   "metadata": {},
   "source": [
    "13. Generar el histograma de cada una de las caracteristicas."
   ]
  },
  {
   "cell_type": "code",
   "execution_count": null,
   "id": "3656b24f",
   "metadata": {},
   "outputs": [],
   "source": [
    "# Ingresa tu codigo aqui #"
   ]
  },
  {
   "cell_type": "markdown",
   "id": "22351df1",
   "metadata": {},
   "source": [
    "14.  Generar grafica Swarm de la caracteristica petal_length con respecto la especie."
   ]
  },
  {
   "cell_type": "code",
   "execution_count": null,
   "id": "9eccb174",
   "metadata": {},
   "outputs": [],
   "source": [
    "# Ingresa tu codigo aqui #"
   ]
  },
  {
   "cell_type": "markdown",
   "id": "a751e8d3",
   "metadata": {},
   "source": [
    "15. Divide los datos en features_train, target_train y feature_test, target_test utilizando la libreria train_Test_split. Divide los datos en una proporcion acorde."
   ]
  },
  {
   "cell_type": "code",
   "execution_count": null,
   "id": "5b1248ca",
   "metadata": {},
   "outputs": [],
   "source": [
    "features = df.drop(['species'], axis=1)\n",
    "targets = df[\"species\"]\n",
    "features_train, features_test, target_train, target_test = # Ingresa tu codigo aqui #"
   ]
  },
  {
   "cell_type": "markdown",
   "id": "bed40907",
   "metadata": {},
   "source": [
    "Ejecuta el siguiente modelo de regresion logistica "
   ]
  },
  {
   "cell_type": "code",
   "execution_count": null,
   "id": "a23cf105",
   "metadata": {},
   "outputs": [],
   "source": [
    "# crear modelo de clasificacion usando Regresión logística\n",
    "classifier = LogisticRegression(solver='lbfgs', max_iter=300 )\n",
    "# entrenar modelo y hacer predicciones\n",
    "target_predicted = classifier.fit(features_train, target_train).predict(features_test)"
   ]
  },
  {
   "cell_type": "markdown",
   "id": "191b625e",
   "metadata": {},
   "source": [
    "16. Con ayuda de target_predicted y target_test genera la matriz de confusion."
   ]
  },
  {
   "cell_type": "code",
   "execution_count": null,
   "id": "fe2db88f",
   "metadata": {},
   "outputs": [],
   "source": [
    "# Ingresa tu codigo aqui #"
   ]
  }
 ],
 "metadata": {
  "kernelspec": {
   "display_name": "Python 3 (ipykernel)",
   "language": "python",
   "name": "python3"
  },
  "language_info": {
   "codemirror_mode": {
    "name": "ipython",
    "version": 3
   },
   "file_extension": ".py",
   "mimetype": "text/x-python",
   "name": "python",
   "nbconvert_exporter": "python",
   "pygments_lexer": "ipython3",
   "version": "3.8.3"
  }
 },
 "nbformat": 4,
 "nbformat_minor": 5
}
